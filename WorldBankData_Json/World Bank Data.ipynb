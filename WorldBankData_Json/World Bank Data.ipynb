{
 "cells": [
  {
   "cell_type": "code",
   "execution_count": 2,
   "metadata": {},
   "outputs": [],
   "source": [
    "import pandas as pd\n",
    "import numpy as np\n",
    "import json\n",
    "from pandas.io.json import json_normalize\n",
    "from matplotlib import pyplot as plt"
   ]
  },
  {
   "cell_type": "code",
   "execution_count": 102,
   "metadata": {
    "scrolled": true
   },
   "outputs": [
    {
     "name": "stdout",
     "output_type": "stream",
     "text": [
      "Top 10 Countries with Most Projects: \n",
      "                                 Counts\n",
      "Republic of Indonesia                19\n",
      "People's Republic of China           19\n",
      "Socialist Republic of Vietnam        17\n",
      "Republic of India                    16\n",
      "Republic of Yemen                    13\n",
      "Nepal                                12\n",
      "Kingdom of Morocco                   12\n",
      "People's Republic of Bangladesh      12\n",
      "Republic of Mozambique               11\n",
      "Africa                               11\n",
      "<class 'pandas.core.frame.DataFrame'>\n"
     ]
    }
   ],
   "source": [
    "\"\"\"TOP 10 COUNTRIES WITH MOST PROJECTS\"\"\"\n",
    "\n",
    "with open('data/world_bank_projects.json') as file:\n",
    "    data = pd.read_json(file)\n",
    "\n",
    "    #group entries together by their respective countries\n",
    "    data = data.set_index(['countryname'])\n",
    "    data = data.sort_index()\n",
    "    \n",
    "    #create list of unique countries from index: countries\n",
    "    countries = set(data.index)\n",
    "    #create a dictionary of the countries to their numbers of projects\n",
    "    country_proj_counts = dict.fromkeys(countries)\n",
    "        \n",
    "    for country in countries:\n",
    "        country_proj_counts[country] = sum(data.index == country)\n",
    "        \n",
    "    #convert country_proj_counts from dict to dataframe    \n",
    "    country_proj_counts = pd.DataFrame.from_dict(country_proj_counts, orient='index')\n",
    "    \n",
    "    #sort dict by number of projects\n",
    "    country_proj_counts = country_proj_counts.sort_values(0, ascending=False)\n",
    "    top10 = country_proj_counts.head(10).to_string(header=False)\n",
    "    top10_plot = country_proj_counts.head(10)\n",
    "    top10_plot.columns = ['Counts']\n",
    "    #filter out top 10 countries and print them one by one, with ascending ranking on the side\n",
    "    print('Top 10 Countries with Most Projects: ')\n",
    "    print(top10_plot)\n",
    "    #plt.hist(top10_plot, normed=True, bins=10)\n",
    "    '''Further improvement: create visuals(histogram)'''"
   ]
  },
  {
   "cell_type": "code",
   "execution_count": 9,
   "metadata": {
    "scrolled": false
   },
   "outputs": [
    {
     "name": "stdout",
     "output_type": "stream",
     "text": [
      "TOP 10 PROJECT THEMES:\n",
      "Names\n",
      "Environment and natural resources management    162\n",
      "Rural development                               149\n",
      "Public sector governance                        141\n",
      "Human development                               131\n",
      "Social protection and risk management           120\n",
      "Financial and private sector development        120\n",
      "Social dev/gender/inclusion                     114\n",
      "Trade and integration                            61\n",
      "Urban development                                40\n",
      "Economic management                              33\n",
      "dtype: int64\n"
     ]
    }
   ],
   "source": [
    "\"\"\"TOP 10 MOST COMMON PROJECTS\"\"\"\n",
    "\n",
    "file = 'data/world_bank_projects.json'\n",
    "data = pd.read_json(file)\n",
    "    \n",
    "#index projects by their ids\n",
    "data = data.set_index(['id']).sort_index()\n",
    "#data = data.sort_index()\n",
    "\n",
    "#create a big list of all dictionaries inside data['mjtheme_namecode']\n",
    "themes = data['mjtheme_namecode']\n",
    "\n",
    "#delete duplicates inside the dictionaries at themes: fixed_themes\n",
    "fixed_themes = []\n",
    "for theme in themes:\n",
    "    fixed = [dict(t) for t in {tuple(d.items()) for d in theme}]\n",
    "    fixed_themes.append(fixed)\n",
    "\n",
    "\n",
    "#create a big list of all the themes of each project: all_themes\n",
    "all_themes = []\n",
    "for d in fixed_themes:\n",
    "    [all_themes.append(a) for a in d]\n",
    "    \n",
    "#create two lists, one for 'code' column and one for 'name' column\n",
    "codes = []\n",
    "names = []\n",
    "for i, dictionary in enumerate(all_themes):\n",
    "    codes.append(all_themes[i]['code'])\n",
    "    names.append(all_themes[i]['name'])\n",
    "#replace all empty string values with None\n",
    "names = [None if name == '' else name for name in names]\n",
    "\n",
    "\n",
    "#populate new dataframe with the two lists: table\n",
    "theme_table = pd.DataFrame(names)\n",
    "code_table = pd.DataFrame(codes)\n",
    "table = pd.concat([theme_table, code_table], axis=1)\n",
    "table.columns = ['Names', 'Codes']\n",
    "\n",
    "\n",
    "#create a reference table and dictionary of codes and their respective names, no duplicates\n",
    "ref_table = table.sort_values('Codes', na_position='last').drop_duplicates(subset='Names').set_index('Codes')\n",
    "ref_table = ref_table[pd.notnull(ref_table['Names'])]\n",
    "ref_table.index = ref_table.index.astype(int)\n",
    "ref_table = ref_table.sort_index()\n",
    "ref_dict = ref_table.to_dict()\n",
    "ref_dict = ref_dict['Names']\n",
    "\n",
    "#replace Nones in Names column with their respective code names in the ref_table\n",
    "for index, theme in table.iterrows():\n",
    "    if theme['Names'] == None:\n",
    "        theme['Names'] = ref_dict[int(theme['Codes'])]\n",
    "\n",
    "\n",
    "#count number of occurrences for each theme and code\n",
    "name_counts = table.groupby('Names').size().sort_values(ascending=False)\n",
    "#name_counts = name_counts.sort_values(ascending=False)\n",
    "code_counts = table.groupby('Codes').size().sort_values(ascending=False)\n",
    "#code_counts = code_counts.sort_values(ascending=False)\n",
    "'''problem: some names are not populated, go fix the tables (now replaced with Nones)'''\n",
    "\n",
    "print('TOP 10 PROJECT THEMES:')\n",
    "print(name_counts.head(10))\n"
   ]
  },
  {
   "cell_type": "code",
   "execution_count": null,
   "metadata": {},
   "outputs": [],
   "source": []
  },
  {
   "cell_type": "code",
   "execution_count": null,
   "metadata": {},
   "outputs": [],
   "source": []
  },
  {
   "cell_type": "code",
   "execution_count": null,
   "metadata": {},
   "outputs": [],
   "source": []
  }
 ],
 "metadata": {
  "kernelspec": {
   "display_name": "Python 3",
   "language": "python",
   "name": "python3"
  },
  "language_info": {
   "codemirror_mode": {
    "name": "ipython",
    "version": 3
   },
   "file_extension": ".py",
   "mimetype": "text/x-python",
   "name": "python",
   "nbconvert_exporter": "python",
   "pygments_lexer": "ipython3",
   "version": "3.7.1"
  }
 },
 "nbformat": 4,
 "nbformat_minor": 2
}
